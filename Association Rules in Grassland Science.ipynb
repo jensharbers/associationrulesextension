{
 "cells": [
  {
   "cell_type": "code",
   "execution_count": null,
   "metadata": {},
   "outputs": [],
   "source": [
    "import pandas as pd\n",
    "from mlxtend.frequent_patterns import fpgrowth, association_rules\n",
    "from datetime import datetime\n",
    "import scipy.stats as stats\n",
    "\n",
    "start = datetime.now()\n",
    "df = pd.read_csv(\"C:\\\\Users\\\\Jens Harbers\\\\Documents\\\\schedenveg_reproduce.csv\",sep=\" \")\n",
    "items = df.copy()\n",
    "# manually remove some species, might be a different approach for rule mining in graslands\n",
    "n = df.area.nunique()\n",
    "cnt = df.variable.value_counts()/n\n",
    "\n",
    "df = df[~df.variable.isin(cnt[(cnt < 0.12) | (cnt >= 0.8)].index.values.tolist())]\n",
    "df = pd.crosstab(df.area,df.variable)\n",
    "frequent_itemsets = fpgrowth(df, min_support=0.12, use_colnames=True, max_len=20)\n",
    "\n",
    "assoc = association_rules(frequent_itemsets, metric='confidence', min_threshold=0.05, support_only=False)\n",
    "\n",
    "stop = datetime.now()\n",
    "\n",
    "\n",
    "\n",
    "assoc['n1x'] = assoc['antecedent support'] * n\n",
    "assoc['nx1'] = assoc['consequent support'] * n\n",
    "assoc['n11'] = assoc['support'] * n\n",
    "\n",
    "assoc['n0x'] = n - assoc['n1x']\n",
    "assoc['nx0'] = n - assoc['nx1']\n",
    "\n",
    "assoc['n10'] = assoc[\"n1x\"] - assoc['n11']\n",
    "assoc['n01'] = assoc[\"nx1\"] - assoc['n11']\n",
    "assoc['n00'] = assoc['n0x'] - assoc['n01'] \n",
    "\n",
    "# assoc\n",
    "\n",
    "\n",
    "# assoc.to_parquet(\"assoc_rules_schedenveg.parquet\",index=False)\n",
    "species_on_field = items[items.area == \"A10_16\"].variable.values\n",
    "\n",
    "# true if all sciecies in antecedents are also existent in field\n",
    "assoc[\"antecedent_in_field\"] = assoc.apply(lambda x: x.antecedents.issubset(species_on_field), axis=1)\n",
    "assoc = assoc[assoc.antecedent_in_field==True]\n",
    "# True is no species is listed in consequent\n",
    "assoc[\"consequent_not_in_field\"] = assoc.apply(lambda x: x.consequents.isdisjoint(species_on_field), axis=1)\n",
    "assoc = assoc[assoc.consequent_not_in_field==True]\n",
    "\n",
    "print(stop - start)"
   ]
  }
 ],
 "metadata": {
  "kernelspec": {
   "display_name": "Python 3",
   "language": "python",
   "name": "python3"
  },
  "language_info": {
   "codemirror_mode": {
    "name": "ipython",
    "version": 3
   },
   "file_extension": ".py",
   "mimetype": "text/x-python",
   "name": "python",
   "nbconvert_exporter": "python",
   "pygments_lexer": "ipython3",
   "version": "3.7.3"
  }
 },
 "nbformat": 4,
 "nbformat_minor": 4
}
